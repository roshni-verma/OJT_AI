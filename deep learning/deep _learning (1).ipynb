{
 "cells": [
  {
   "cell_type": "code",
   "execution_count": 1,
   "id": "2eaec7bc",
   "metadata": {},
   "outputs": [
    {
     "name": "stdout",
     "output_type": "stream",
     "text": [
      "Epoch 1/5\n",
      "\u001b[1m1/1\u001b[0m \u001b[32m━━━━━━━━━━━━━━━━━━━━\u001b[0m\u001b[37m\u001b[0m \u001b[1m2s\u001b[0m 2s/step - accuracy: 0.2500 - loss: 1.1009\n",
      "Epoch 2/5\n",
      "\u001b[1m1/1\u001b[0m \u001b[32m━━━━━━━━━━━━━━━━━━━━\u001b[0m\u001b[37m\u001b[0m \u001b[1m0s\u001b[0m 35ms/step - accuracy: 0.5000 - loss: 1.0940\n",
      "Epoch 3/5\n",
      "\u001b[1m1/1\u001b[0m \u001b[32m━━━━━━━━━━━━━━━━━━━━\u001b[0m\u001b[37m\u001b[0m \u001b[1m0s\u001b[0m 36ms/step - accuracy: 0.5000 - loss: 1.0869\n",
      "Epoch 4/5\n",
      "\u001b[1m1/1\u001b[0m \u001b[32m━━━━━━━━━━━━━━━━━━━━\u001b[0m\u001b[37m\u001b[0m \u001b[1m0s\u001b[0m 37ms/step - accuracy: 0.7500 - loss: 1.0815\n",
      "Epoch 5/5\n",
      "\u001b[1m1/1\u001b[0m \u001b[32m━━━━━━━━━━━━━━━━━━━━\u001b[0m\u001b[37m\u001b[0m \u001b[1m0s\u001b[0m 34ms/step - accuracy: 1.0000 - loss: 1.0699\n",
      "\u001b[1m1/1\u001b[0m \u001b[32m━━━━━━━━━━━━━━━━━━━━\u001b[0m\u001b[37m\u001b[0m \u001b[1m0s\u001b[0m 142ms/step\n",
      "Predicted sentiment of the sentence: 0\n"
     ]
    }
   ],
   "source": [
    "import numpy as np\n",
    "from tensorflow.keras.models import Sequential  # Corrected import\n",
    "from tensorflow.keras.layers import Embedding, LSTM, Dense, Dropout  # Corrected import names\n",
    "from tensorflow.keras.preprocessing.text import Tokenizer\n",
    "from tensorflow.keras.preprocessing.sequence import pad_sequences\n",
    "\n",
    "# Sample data\n",
    "sentences = [\n",
    "    \"i love my bike!\",\n",
    "    \"I had the worst experience service\",\n",
    "    \"it was ok, but nothing special\",\n",
    "    \"The service consultant was terrible.\"\n",
    "]\n",
    "# Labels: positive = 1, negative = 0, neutral = 2\n",
    "labels = [1, 0, 2, 0]  # Added a label for the fourth sentence to match the number of samples\n",
    "\n",
    "# Tokenization and padding of sequences\n",
    "tokenizer = Tokenizer(num_words=10000, oov_token='<OOV>')\n",
    "tokenizer.fit_on_texts(sentences)\n",
    "word_index = tokenizer.word_index\n",
    "\n",
    "# Convert texts to sequences and pad them\n",
    "sequences = tokenizer.texts_to_sequences(sentences)\n",
    "padded = pad_sequences(sequences, padding='post')\n",
    "\n",
    "# Create the model\n",
    "model = Sequential([\n",
    "    Embedding(input_dim=10000, output_dim=64),  # Corrected argument name\n",
    "    LSTM(64, return_sequences=False),  # Corrected argument name and casing\n",
    "    Dropout(0.5),\n",
    "    Dense(3, activation='softmax')  # Output layer for 3 classes\n",
    "])\n",
    "\n",
    "# Compile the model\n",
    "model.compile(loss='sparse_categorical_crossentropy', optimizer='adam', metrics=['accuracy'])  # Corrected syntax\n",
    "\n",
    "# Train the model\n",
    "model.fit(padded, np.array(labels), epochs=5, verbose=1)\n",
    "\n",
    "# Make predictions\n",
    "test_sentences = [\"i enjoyed the film\"]\n",
    "test_seq = tokenizer.texts_to_sequences(test_sentences)\n",
    "test_padded = pad_sequences(test_seq, maxlen=padded.shape[1])\n",
    "prediction = model.predict(test_padded)\n",
    "predicted_class = np.argmax(prediction)\n",
    "\n",
    "print(f\"Predicted sentiment of the sentence: {predicted_class}\")"
   ]
  },
  {
   "cell_type": "markdown",
   "id": "4398a237",
   "metadata": {},
   "source": [
    "# classification of customer support system"
   ]
  },
  {
   "cell_type": "code",
   "execution_count": 8,
   "id": "f996cdcb",
   "metadata": {},
   "outputs": [],
   "source": [
    "#classification of customer support system\n",
    "# rule based text classification\n",
    "\n",
    "from ast import keyword\n",
    "\n",
    "def classify_request(text):\n",
    "    text = text.lower()\n",
    "    \n",
    "    if any(keyword in text for keyword in [\"billing\",\"invoice\",\"charge\"]):\n",
    "        return \"Billing Issue\"\n",
    "    elif any(keyword in text for keyword in [\"password\",\"access\",\"login\",\"account\"]):\n",
    "        return \"Technical support\"\n",
    "    elif any(keyword in text for keyword in [\"hour\",\"time\",\"location\",\"general\"]):\n",
    "        return \"general support\"\n",
    "    else:\n",
    "        return \"other support\"\n",
    "    \n",
    "#test sample\n",
    "    requestes=[\n",
    "        \"my account is blocked\",\n",
    "        \"i need my last billing details\",\n",
    "        \"i need to know the timing of my order\"\n",
    "    ]\n",
    "    \n",
    "    for request in requestes:\n",
    "        category = classify_request(request)\n",
    "        print(f\"request: {request}\\n category: {category}\\n\")\n",
    "        "
   ]
  },
  {
   "cell_type": "code",
   "execution_count": 22,
   "id": "9625a501",
   "metadata": {},
   "outputs": [
    {
     "name": "stdout",
     "output_type": "stream",
     "text": [
      "Accuracy:0.00%\n",
      "predicted label for the new review: 1\n",
      "Predicted sentiment: negative\n"
     ]
    }
   ],
   "source": [
    "# create a  model with logistic regression and bow for the text classification\n",
    "import numpy as np\n",
    "from sklearn.feature_extraction.text import CountVectorizer\n",
    "from sklearn.linear_model import LogisticRegression\n",
    "from sklearn.metrics import accuracy_score\n",
    "from sklearn.model_selection import train_test_split\n",
    "\n",
    "#create sample data\n",
    "reviews = [\n",
    "    \"i love the movie , it was good\",\n",
    "    \"the movie was boring\",\n",
    "    \"excellent movie, actors done well\",\n",
    "    \"it was a normal movie, nothing special\"\n",
    "]\n",
    "\n",
    "#positive = 1,negative = 0, neutral=2\n",
    "labels= [1,0,1,2]\n",
    "\n",
    "#create vectorization for the above\n",
    "vectorizer = CountVectorizer()\n",
    "x = vectorizer.fit_transform(reviews)\n",
    "y = np.array(labels)\n",
    "\n",
    "#splitied the trains sets and tests sets\n",
    "x_train,x_test,y_train,y_test = train_test_split(x,y, test_size=0.2, random_state=42)\n",
    "\n",
    "#create our model\n",
    "model= LogisticRegression()\n",
    "model.fit(x_train,y_train)\n",
    "y_pred = model.predict(x_test)\n",
    "accuracy = accuracy_score(y_test,y_pred)\n",
    "print(f\"Accuracy:{accuracy*100:.2f}%\")\n",
    "\n",
    "\n",
    "#create a sample review for the prediction\n",
    "new_review = [\"i really enjoyed the movie\"]\n",
    "new_vector = vectorizer.transform(new_review)\n",
    "predict_class = prediction[0]\n",
    "predicted_sentiment = {1:\"positive\", 0:\"negative\", 2:\"neutral\"}\n",
    "new_review_transformed = vectorizer.transform(new_review)\n",
    "new_review_prediction = model.predict(new_review_transformed)\n",
    "\n",
    "print(f\"predicted label for the new review: {new_review_prediction[0]}\")\n",
    "print(f\"Predicted sentiment: {predicted_sentiment[0]}\")\n",
    "     "
   ]
  },
  {
   "cell_type": "code",
   "execution_count": null,
   "id": "454ba0cd",
   "metadata": {},
   "outputs": [],
   "source": []
  },
  {
   "cell_type": "code",
   "execution_count": null,
   "id": "2a3a59e3",
   "metadata": {},
   "outputs": [],
   "source": []
  },
  {
   "cell_type": "code",
   "execution_count": null,
   "id": "14cc5673",
   "metadata": {},
   "outputs": [],
   "source": []
  },
  {
   "cell_type": "code",
   "execution_count": null,
   "id": "5b75a067",
   "metadata": {},
   "outputs": [],
   "source": []
  }
 ],
 "metadata": {
  "kernelspec": {
   "display_name": "Python 3 (ipykernel)",
   "language": "python",
   "name": "python3"
  },
  "language_info": {
   "codemirror_mode": {
    "name": "ipython",
    "version": 3
   },
   "file_extension": ".py",
   "mimetype": "text/x-python",
   "name": "python",
   "nbconvert_exporter": "python",
   "pygments_lexer": "ipython3",
   "version": "3.11.4"
  }
 },
 "nbformat": 4,
 "nbformat_minor": 5
}
