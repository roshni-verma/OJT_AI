{
 "cells": [
  {
   "cell_type": "code",
   "execution_count": 3,
   "id": "2b49a42b",
   "metadata": {},
   "outputs": [
    {
     "name": "stdout",
     "output_type": "stream",
     "text": [
      "                                                  review sentiment\n",
      "0      One of the other reviewers has mentioned that ...  positive\n",
      "1      A wonderful little production. <br /><br />The...  positive\n",
      "2      I thought this was a wonderful way to spend ti...  positive\n",
      "3      Basically there's a family where a little boy ...  negative\n",
      "4      Petter Mattei's \"Love in the Time of Money\" is...  positive\n",
      "...                                                  ...       ...\n",
      "49995  I thought this movie did a down right good job...  positive\n",
      "49996  Bad plot, bad dialogue, bad acting, idiotic di...  negative\n",
      "49997  I am a Catholic taught in parochial elementary...  negative\n",
      "49998  I'm going to have to disagree with the previou...  negative\n",
      "49999  No one expects the Star Trek movies to be high...  negative\n",
      "\n",
      "[50000 rows x 2 columns]\n",
      "Predicted sentiment:data['sentiment'][0]\n"
     ]
    },
    {
     "data": {
      "text/plain": [
       "(39087    thats what i kept asking myself during the man...\n",
       " 30893    i did not watch the entire movie i could not w...\n",
       " 45278    a touching love story reminiscent of in the m...\n",
       " 16398    this latterday fulci schlocker is a totally ab...\n",
       " 13653    first of all i firmly believe that norwegian m...\n",
       " Name: review, dtype: object,\n",
       " 39087    0\n",
       " 30893    0\n",
       " 45278    1\n",
       " 16398    0\n",
       " 13653    0\n",
       " Name: sentiment, dtype: int32)"
      ]
     },
     "execution_count": 3,
     "metadata": {},
     "output_type": "execute_result"
    }
   ],
   "source": [
    "import pandas as pd\n",
    "from sklearn.model_selection import train_test_split\n",
    "from sklearn.preprocessing import LabelEncoder\n",
    "import re\n",
    "import string\n",
    "\n",
    "# Load the dataset\n",
    "\n",
    "data = pd.read_csv('IMDB Dataset.csv')\n",
    "print(data)\n",
    "\n",
    "# Text pre-processing function\n",
    "def preprocess_text(text):\n",
    "    # Remove HTML tags\n",
    "    text = re.sub(r'<.*?>', '', text)\n",
    "    # Remove punctuation\n",
    "    text = text.translate(str.maketrans('', '', string.punctuation))\n",
    "    # Convert to lowercase\n",
    "    text = text.lower()\n",
    "    return text\n",
    "\n",
    "# Apply pre-processing to the review column\n",
    "data['review'] = data['review'].apply(preprocess_text)\n",
    "\n",
    "# Encode the sentiment labels\n",
    "label_encoder = LabelEncoder()\n",
    "data['sentiment'] = label_encoder.fit_transform(data['sentiment'])\n",
    "print(f\"Predicted sentiment:data['sentiment']{[0]}\")\n",
    "\n",
    "# Split the dataset into training and testing sets\n",
    "X_train, X_test, y_train, y_test = train_test_split(data['review'], data['sentiment'], test_size=0.2, random_state=42)\n",
    "\n",
    "# Check the first few rows of the pre-processed data\n",
    "X_train.head(), y_train.head()\n"
   ]
  },
  {
   "cell_type": "code",
   "execution_count": 1,
   "id": "2d0bb5b3",
   "metadata": {},
   "outputs": [],
   "source": [
    "import re\n",
    "import nltk\n",
    "import numpy as np # linear algebra\n",
    "import pandas as pd # data processing, CSV file I/O (e.g. pd.read_csv)\n",
    "import tensorflow as tf\n",
    "import matplotlib.pyplot as plt\n",
    "from nltk.corpus import stopwords\n",
    "from tensorflow.keras.models import Sequential\n",
    "from sklearn.model_selection import train_test_split\n",
    "from tensorflow.keras.preprocessing.text import Tokenizer\n",
    "from tensorflow.keras.layers import Activation,Dense, Dropout\n",
    "from tensorflow.keras.preprocessing.sequence import pad_sequences\n",
    "from tensorflow.keras.layers import  Embedding, LSTM"
   ]
  },
  {
   "cell_type": "code",
   "execution_count": 3,
   "id": "b1fe1562",
   "metadata": {},
   "outputs": [
    {
     "name": "stdout",
     "output_type": "stream",
     "text": [
      "                                                  review sentiment\n",
      "0      One of the other reviewers has mentioned that ...  positive\n",
      "1      A wonderful little production. <br /><br />The...  positive\n",
      "2      I thought this was a wonderful way to spend ti...  positive\n",
      "3      Basically there's a family where a little boy ...  negative\n",
      "4      Petter Mattei's \"Love in the Time of Money\" is...  positive\n",
      "...                                                  ...       ...\n",
      "49995  I thought this movie did a down right good job...  positive\n",
      "49996  Bad plot, bad dialogue, bad acting, idiotic di...  negative\n",
      "49997  I am a Catholic taught in parochial elementary...  negative\n",
      "49998  I'm going to have to disagree with the previou...  negative\n",
      "49999  No one expects the Star Trek movies to be high...  negative\n",
      "\n",
      "[50000 rows x 2 columns]\n"
     ]
    }
   ],
   "source": [
    "df = pd.read_csv(\"IMDB Dataset.csv\")\n",
    "df.head()\n",
    "print(df)"
   ]
  },
  {
   "cell_type": "code",
   "execution_count": 4,
   "id": "8a5011bb",
   "metadata": {},
   "outputs": [
    {
     "data": {
      "text/plain": [
       "review       0\n",
       "sentiment    0\n",
       "dtype: int64"
      ]
     },
     "execution_count": 4,
     "metadata": {},
     "output_type": "execute_result"
    }
   ],
   "source": [
    "df.isnull().sum()\n"
   ]
  },
  {
   "cell_type": "code",
   "execution_count": 5,
   "id": "86591d58",
   "metadata": {},
   "outputs": [
    {
     "name": "stdout",
     "output_type": "stream",
     "text": [
      "<class 'pandas.core.frame.DataFrame'>\n",
      "RangeIndex: 50000 entries, 0 to 49999\n",
      "Data columns (total 2 columns):\n",
      " #   Column     Non-Null Count  Dtype \n",
      "---  ------     --------------  ----- \n",
      " 0   review     50000 non-null  object\n",
      " 1   sentiment  50000 non-null  object\n",
      "dtypes: object(2)\n",
      "memory usage: 781.4+ KB\n"
     ]
    }
   ],
   "source": [
    "df.info()"
   ]
  },
  {
   "cell_type": "code",
   "execution_count": 6,
   "id": "e1b03643",
   "metadata": {},
   "outputs": [
    {
     "data": {
      "image/png": "[encoded data removed]",
      "text/plain": [
       "<Figure size 640x480 with 1 Axes>"
      ]
     },
     "metadata": {},
     "output_type": "display_data"
    }
   ],
   "source": [
    "import seaborn as sns\n",
    "plt.style.use(\"ggplot\")\n",
    "sns.countplot(data = df, x = df[\"sentiment\"])\n",
    "plt.show()"
   ]
  },
  {
   "cell_type": "code",
   "execution_count": 7,
   "id": "36c71dfd",
   "metadata": {},
   "outputs": [
    {
     "data": {
      "text/plain": [
       "sentiment\n",
       "positive    25000\n",
       "negative    25000\n",
       "Name: count, dtype: int64"
      ]
     },
     "execution_count": 7,
     "metadata": {},
     "output_type": "execute_result"
    }
   ],
   "source": [
    "df[\"sentiment\"].value_counts()"
   ]
  },
  {
   "cell_type": "code",
   "execution_count": 8,
   "id": "0496f189",
   "metadata": {},
   "outputs": [
    {
     "data": {
      "text/plain": [
       "'I thought this was a wonderful way to spend time on a too hot summer weekend, sitting in the air conditioned theater and watching a light-hearted comedy. The plot is simplistic, but the dialogue is witty and the characters are likable (even the well bread suspected serial killer). While some may be disappointed when they realize this is not Match Point 2: Risk Addiction, I thought it was proof that Woody Allen is still fully in control of the style many of us have grown to love.<br /><br />This was the most I\\'d laughed at one of Woody\\'s comedies in years (dare I say a decade?). While I\\'ve never been impressed with Scarlet Johanson, in this she managed to tone down her \"sexy\" image and jumped right into a average, but spirited young woman.<br /><br />This may not be the crown jewel of his career, but it was wittier than \"Devil Wears Prada\" and more interesting than \"Superman\" a great comedy to go see with friends.'"
      ]
     },
     "execution_count": 8,
     "metadata": {},
     "output_type": "execute_result"
    }
   ],
   "source": [
    "df[\"review\"][2]"
   ]
  },
  {
   "cell_type": "code",
   "execution_count": 11,
   "id": "dcc24126",
   "metadata": {},
   "outputs": [
    {
     "data": {
      "text/plain": [
       "'thought wonderful way spend time hot summer weekend'"
      ]
     },
     "execution_count": 11,
     "metadata": {},
     "output_type": "execute_result"
    }
   ],
   "source": [
    "stopwords_list = set(stopwords.words('english'))\n",
    "\n",
    "\n",
    "TAG_RE = re.compile(r'<[^>]+>')\n",
    "\n",
    "def remove_tags(text):\n",
    "    return TAG_RE.sub('', text)\n",
    "    \n",
    "\n",
    "class CustomPreprocess():\n",
    "\n",
    "    def __init__(self):\n",
    "        pass\n",
    "\n",
    "    def preprocess_text(self,sen):\n",
    "        sen = sen.lower()\n",
    "        \n",
    "        # Remove html tags\n",
    "        sentence = remove_tags(sen)\n",
    "\n",
    "        # Remove punctuations and numbers\n",
    "        sentence = re.sub('[^a-zA-Z]', ' ', sentence)\n",
    "        \n",
    "        # Single character removal\n",
    "        sentence = re.sub(r\"\\s+[a-zA-Z]\\s+\", ' ', sentence)\n",
    "\n",
    "        # Remove multiple spaces\n",
    "        sentence = re.sub(r'\\s+', ' ', sentence)\n",
    "        \n",
    "        # Remove Stopwords\n",
    "        pattern = re.compile(r'\\b(' + r'|'.join(stopwords_list) + r')\\b\\s*')\n",
    "        sentence = pattern.sub('', sentence)\n",
    "        \n",
    "        return sentence\n",
    "custom = CustomPreprocess()\n",
    "custom.preprocess_text(\"I thought this was a wonderful way to spend time on a too hot summer weekend\")"
   ]
  },
  {
   "cell_type": "code",
   "execution_count": 12,
   "id": "1c6fc87f",
   "metadata": {},
   "outputs": [
    {
     "data": {
      "text/plain": [
       "array([1, 1, 1, 0, 1, 1, 1, 0, 0, 1, 0, 0, 0, 0, 1], dtype=int64)"
      ]
     },
     "execution_count": 12,
     "metadata": {},
     "output_type": "execute_result"
    }
   ],
   "source": [
    "x = []\n",
    "sentences = list(df['review'])\n",
    "for sen in sentences:\n",
    "    x.append(custom.preprocess_text(sen))\n",
    "y = df['sentiment']\n",
    "sentiment_map = {'negative' : 0, 'positive': 1}\n",
    "y = np.array(y.map(sentiment_map))\n",
    "y[:15]"
   ]
  },
  {
   "cell_type": "code",
   "execution_count": 13,
   "id": "63740625",
   "metadata": {},
   "outputs": [],
   "source": [
    "x_train, x_test, y_train,y_test = train_test_split(x,y,test_size=0.2,random_state=42)"
   ]
  },
  {
   "cell_type": "code",
   "execution_count": 14,
   "id": "5984ddd4",
   "metadata": {},
   "outputs": [
    {
     "name": "stderr",
     "output_type": "stream",
     "text": [
      "C:\\Users\\ibmuser\\AppData\\Local\\Programs\\Python\\Python311\\Lib\\site-packages\\sklearn\\metrics\\_classification.py:1469: UndefinedMetricWarning: Precision is ill-defined and being set to 0.0 due to no predicted samples. Use `zero_division` parameter to control this behavior.\n",
      "  _warn_prf(average, modifier, msg_start, len(result))\n"
     ]
    },
    {
     "data": {
      "text/plain": [
       "('Sentiment: Polarity=0.375, Subjectivity=0.8083333333333332',\n",
       " 'Accuracy=0.6666666666666666, Precision=0.0, Recall=0.0, F1 Score=0.0')"
      ]
     },
     "execution_count": 14,
     "metadata": {},
     "output_type": "execute_result"
    }
   ],
   "source": [
    "import nltk\n",
    "from sklearn.feature_extraction.text import CountVectorizer\n",
    "from sklearn.model_selection import train_test_split\n",
    "from sklearn.naive_bayes import MultinomialNB\n",
    "from sklearn.metrics import accuracy_score, precision_score, recall_score, f1_score\n",
    "from textblob import TextBlob\n",
    "\n",
    "# Sample text\n",
    "text = \"I thought this was a wonderful way to spend time on a too hot summer weekend, sitting in the air conditioned theater and watching a light-hearted comedy. The plot is simplistic, but the dialogue is witty and the characters are likable (even the well bread suspected serial killer).\"\n",
    "\n",
    "# Sentiment analysis using TextBlob\n",
    "blob = TextBlob(text)\n",
    "sentiment = blob.sentiment\n",
    "\n",
    "# Preparing data for text classification\n",
    "# For demonstration, we'll use a small dataset\n",
    "texts = [\n",
    "    \"I love this movie, it's fantastic!\",\n",
    "    \"This is a terrible movie, I hated it.\",\n",
    "    \"An excellent film with great performances.\",\n",
    "    \"I thought this was a wonderful way to spend time on a too hot summer weekend, sitting in the air conditioned theater and watching a light-hearted comedy. The plot is simplistic, but the dialogue is witty and the characters are likable (even the well bread suspected serial killer).\",\n",
    "    \"The movie was okay, not great but not terrible either.\",\n",
    "    \"Worst movie ever, don't waste your time.\",\n",
    "    \"A delightful comedy with a simple plot but charming characters.\",\n",
    "    \"Not my cup of tea, I found it boring.\"\n",
    "]\n",
    "\n",
    "labels = [1, 0, 1, 1, 0, 0, 1, 0]  # 1: Positive, 0: Negative\n",
    "\n",
    "# Vectorizing the text\n",
    "vectorizer = CountVectorizer()\n",
    "X = vectorizer.fit_transform(texts)\n",
    "y = labels\n",
    "\n",
    "# Splitting the data\n",
    "X_train, X_test, y_train, y_test = train_test_split(X, y, test_size=0.3, random_state=42)\n",
    "\n",
    "# Training a Naive Bayes classifier\n",
    "clf = MultinomialNB()\n",
    "clf.fit(X_train, y_train)\n",
    "\n",
    "# Predicting on the test set\n",
    "y_pred = clf.predict(X_test)\n",
    "\n",
    "# Calculating accuracy, precision, recall, and F1 score\n",
    "accuracy = accuracy_score(y_test, y_pred)\n",
    "precision = precision_score(y_test, y_pred)\n",
    "recall = recall_score(y_test, y_pred)\n",
    "f1 = f1_score(y_test, y_pred)\n",
    "\n",
    "# Output results\n",
    "sentiment_analysis = f\"Sentiment: Polarity={sentiment.polarity}, Subjectivity={sentiment.subjectivity}\"\n",
    "classification_metrics = f\"Accuracy={accuracy}, Precision={precision}, Recall={recall}, F1 Score={f1}\"\n",
    "\n",
    "sentiment_analysis, classification_metrics"
   ]
  },
  {
   "cell_type": "code",
   "execution_count": null,
   "id": "b6fac712",
   "metadata": {},
   "outputs": [
    {
     "name": "stderr",
     "output_type": "stream",
     "text": [
      "[nltk_data] Downloading package movie_reviews to\n",
      "[nltk_data]     C:\\Users\\ibmuser\\AppData\\Roaming\\nltk_data...\n",
      "[nltk_data]   Unzipping corpora\\movie_reviews.zip.\n",
      "[nltk_data] Downloading package punkt to\n",
      "[nltk_data]     C:\\Users\\ibmuser\\AppData\\Roaming\\nltk_data...\n",
      "[nltk_data]   Package punkt is already up-to-date!\n"
     ]
    }
   ],
   "source": [
    "import nltk\n",
    "from sklearn.model_selection import train_test_split\n",
    "from sklearn.feature_extraction.text import CountVectorizer\n",
    "from sklearn.naive_bayes import MultinomialNB\n",
    "from sklearn.metrics import accuracy_score, precision_score, recall_score, f1_score, classification_report\n",
    "from nltk.corpus import movie_reviews\n",
    "import pandas as pd\n",
    "\n",
    "# Download NLTK data\n",
    "nltk.download('movie_reviews')\n",
    "nltk.download('punkt')\n",
    "\n",
    "# Load the movie reviews dataset\n",
    "reviews = [(list(movie_reviews.words(fileid)), category)\n",
    "           for category in movie_reviews.categories()\n",
    "           for fileid in movie_reviews.fileids(category)]\n",
    "\n",
    "# Convert to a DataFrame\n",
    "reviews_df = pd.DataFrame(reviews, columns=['review', 'sentiment'])\n",
    "reviews_df['review'] = reviews_df['review'].apply(lambda x: ' '.join(x))\n",
    "\n",
    "# Split the dataset\n",
    "X_train, X_test, y_train, y_test = train_test_split(reviews_df['review'], reviews_df['sentiment'], test_size=0.3, random_state=42)\n",
    "\n",
    "# Vectorize the text data\n",
    "vectorizer = CountVectorizer()\n",
    "X_train_vec = vectorizer.fit_transform(X_train)\n",
    "X_test_vec = vectorizer.transform(X_test)\n",
    "\n",
    "# Train a Naive Bayes classifier\n",
    "model = MultinomialNB()\n",
    "model.fit(X_train_vec, y_train)\n",
    "\n",
    "# Make predictions\n",
    "y_pred = model.predict(X_test_vec)\n",
    "\n",
    "# Calculate accuracy, precision, recall, and F1 score\n",
    "accuracy = accuracy_score(y_test, y_pred)\n",
    "precision = precision_score(y_test, y_pred, pos_label='pos')\n",
    "recall = recall_score(y_test, y_pred, pos_label='pos')\n",
    "f1 = f1_score(y_test, y_pred, pos_label='pos')\n",
    "\n",
    "print(f'Accuracy: {accuracy}')\n",
    "print(f'Precision: {precision}')\n",
    "print(f'Recall: {recall}')\n",
    "print(f'F1 Score: {f1}')\n",
    "print('\\nClassification Report:\\n', classification_report(y_test, y_pred))\n",
    "\n",
    "# Sentiment analysis on the provided text\n",
    "provided_text = \"I thought this was a wonderful way to spend time on a too hot summer weekend, sitting in the air conditioned theater and watching a light-hearted comedy. The plot is simplistic, but the dialogue is witty and the characters are likable (even the well bread suspected serial killer).\"\n",
    "provided_text_vec = vectorizer.transform([provided_text])\n",
    "predicted_sentiment = model.predict(provided_text_vec)[0]\n",
    "\n",
    "print(f'Sentiment of provided text: {predicted_sentiment}')"
   ]
  },
  {
   "cell_type": "code",
   "execution_count": null,
   "id": "c06c0a3e",
   "metadata": {},
   "outputs": [],
   "source": []
  }
 ],
 "metadata": {
  "kernelspec": {
   "display_name": "Python 3 (ipykernel)",
   "language": "python",
   "name": "python3"
  },
  "language_info": {
   "codemirror_mode": {
    "name": "ipython",
    "version": 3
   },
   "file_extension": ".py",
   "mimetype": "text/x-python",
   "name": "python",
   "nbconvert_exporter": "python",
   "pygments_lexer": "ipython3",
   "version": "3.11.4"
  }
 },
 "nbformat": 4,
 "nbformat_minor": 5
}
